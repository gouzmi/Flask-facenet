{
 "cells": [
  {
   "cell_type": "code",
   "execution_count": 1,
   "metadata": {},
   "outputs": [
    {
     "name": "stderr",
     "output_type": "stream",
     "text": [
      "Using TensorFlow backend.\n"
     ]
    },
    {
     "name": "stdout",
     "output_type": "stream",
     "text": [
      " * Serving Flask app \"__main__\" (lazy loading)\n",
      " * Environment: production\n",
      "   WARNING: Do not use the development server in a production environment.\n",
      "   Use a production WSGI server instead.\n",
      " * Debug mode: on\n"
     ]
    },
    {
     "name": "stderr",
     "output_type": "stream",
     "text": [
      " * Restarting with stat\n"
     ]
    },
    {
     "ename": "SystemExit",
     "evalue": "1",
     "output_type": "error",
     "traceback": [
      "An exception has occurred, use %tb to see the full traceback.\n",
      "\u001b[1;31mSystemExit\u001b[0m\u001b[1;31m:\u001b[0m 1\n"
     ]
    },
    {
     "name": "stderr",
     "output_type": "stream",
     "text": [
      "C:\\Users\\gouzm\\Anaconda3\\lib\\site-packages\\IPython\\core\\interactiveshell.py:3275: UserWarning: To exit: use 'exit', 'quit', or Ctrl-D.\n",
      "  warn(\"To exit: use 'exit', 'quit', or Ctrl-D.\", stacklevel=1)\n"
     ]
    }
   ],
   "source": [
    "import flask\n",
    "from flask import Flask, request, render_template\n",
    "from sklearn.externals import joblib\n",
    "import numpy as np\n",
    "from scipy import misc\n",
    "import cv2\t\n",
    "from keras.applications import VGG16\n",
    "from keras.preprocessing import image\n",
    "from keras.models import Sequential\n",
    "from keras.applications.vgg16 import preprocess_input, decode_predictions\n",
    "import pandas as pd\n",
    "\n",
    "\n",
    "app = Flask(__name__)\n",
    "\n",
    "@app.route(\"/\")\n",
    "@app.route(\"/index\")\n",
    "def index():\n",
    "    return flask.render_template('index.html')\n",
    "\n",
    "\n",
    "@app.route('/predict', methods=['POST'])\n",
    "def make_prediction():\n",
    "\tif request.method=='POST':\n",
    "\n",
    "\t\t# get uploaded image file if it exists\n",
    "\t\tfile = request.files['image']\n",
    "\t\tif not file: return render_template('index.html', label=\"No file\")\n",
    "\t\t\n",
    "\t\timg = misc.imread(file)\n",
    "\t\timg_data = cv2.resize(img, dsize=(224, 224), interpolation=cv2.INTER_CUBIC)\n",
    "\t\t# img = tf.image.resize_images(img,[224,224])\n",
    "\t\t#img = image.load_img(file, target_size=(224, 224))\n",
    "\t\t#img_data = image.img_to_array(img)\n",
    "\t\timg_data = np.expand_dims(img_data, axis=0)\n",
    "\t\timg_data = preprocess_input(img_data)\t\n",
    "\n",
    "\t\tpreds = VGG16.predict(img_data)\n",
    "\n",
    "\t\tlabel = decode_predictions(preds,top=1)[0][0][1]\n",
    "\n",
    "\t\treturn render_template('index.html', label=label)\n",
    "\n",
    "\n",
    "if __name__ == '__main__':\n",
    "\t# load ml model\n",
    "\tVGG16 = VGG16(weights='imagenet')\n",
    "\t# start api\n",
    "\tapp.run(host='0.0.0.0', port=8000, debug=True)\n"
   ]
  },
  {
   "cell_type": "code",
   "execution_count": null,
   "metadata": {},
   "outputs": [],
   "source": []
  }
 ],
 "metadata": {
  "kernelspec": {
   "display_name": "Python 3",
   "language": "python",
   "name": "python3"
  },
  "language_info": {
   "codemirror_mode": {
    "name": "ipython",
    "version": 3
   },
   "file_extension": ".py",
   "mimetype": "text/x-python",
   "name": "python",
   "nbconvert_exporter": "python",
   "pygments_lexer": "ipython3",
   "version": "3.6.6"
  }
 },
 "nbformat": 4,
 "nbformat_minor": 2
}
